{
 "cells": [
  {
   "cell_type": "code",
   "execution_count": 1,
   "metadata": {},
   "outputs": [
    {
     "name": "stderr",
     "output_type": "stream",
     "text": [
      "C:\\Users\\Wellborn\\anaconda3\\lib\\site-packages\\pandas\\core\\computation\\expressions.py:20: UserWarning: Pandas requires version '2.7.3' or newer of 'numexpr' (version '2.7.1' currently installed).\n",
      "  from pandas.core.computation.check import NUMEXPR_INSTALLED\n",
      "C:\\Users\\Wellborn\\anaconda3\\lib\\site-packages\\fuzzywuzzy\\fuzz.py:11: UserWarning: Using slow pure-python SequenceMatcher. Install python-Levenshtein to remove this warning\n",
      "  warnings.warn('Using slow pure-python SequenceMatcher. Install python-Levenshtein to remove this warning')\n"
     ]
    },
    {
     "name": "stdin",
     "output_type": "stream",
     "text": [
      "Enter a movie name : 3 idiots\n"
     ]
    },
    {
     "name": "stdout",
     "output_type": "stream",
     "text": [
      "Movie Selected:  3 Idiots (2009) Index:  49\n",
      "Searching for recommendations.....\n",
      "49                                                   NaN\n",
      "33         Like Stars on Earth (Taare Zameen Par) (2007)\n",
      "175                      Loins of Punjab Presents (2007)\n",
      "31              Paint It Yellow (Rang De Basanti) (2006)\n",
      "13                        D.C.H. (Dil Chahta Hai) (2001)\n",
      "105                                Chak De India! (2007)\n",
      "100                      Zindagi Na Milegi Dobara (2011)\n",
      "90                                        Ghajini (2008)\n",
      "48           Swades: We  the People (Our Country) (2004)\n",
      "114                                       Kahaani (2012)\n",
      "55                                My Name is Khan (2010)\n",
      "42                                     Jab We Met (2007)\n",
      "660                                     Rock On 2 (2016)\n",
      "14                                  Kal Ho Naa Ho (2003)\n",
      "122                                OMG Oh My God! (2012)\n",
      "123                                        Barfi! (2012)\n",
      "22                    Dilwale Dulhania Le Jayenge (1995)\n",
      "36     Marriage Made in Heaven  A (Rab Ne Bana Di Jod...\n",
      "120                            Gangs of Wasseypur (2012)\n",
      "10     Something Is Happening (Kuch Kuch Hota Hai) (1...\n",
      "Name: title, dtype: object\n"
     ]
    }
   ],
   "source": [
    "import pandas as pd\n",
    "from scipy.sparse import csr_matrix\n",
    "from sklearn.neighbors import NearestNeighbors\n",
    "from fuzzywuzzy import process\n",
    "\n",
    "#We are using small dataset because of crashing up\n",
    "movies = 'titles.csv'\n",
    "ratings = 'ratings.csv'\n",
    "\n",
    "\n",
    "df_movies = pd.read_csv(movies, usecols=['movie_id','title'], dtype={'movie_id':'int32','title':'str'})\n",
    "df_ratings = pd.read_csv(ratings, usecols=['user_id','movie_id','rating'], dtype={'user_id':'int32','movie_id':'int32','rating':'float32'})\n",
    "\n",
    "#Count all entries of movies and ratings - 800 Entries\n",
    "#df_movies.describe()\n",
    "#df_ratings.describe()\n",
    "\n",
    "#Spare Matrix\n",
    "#         Users\n",
    "#        [4,4,5] A\n",
    "#Movies  [3,3,4] B ==   Cos(A,B) => 0.95 \n",
    "#        [3,2,1]\n",
    "\n",
    "movies_users=df_ratings.pivot(index='movie_id', columns='user_id',values='rating').fillna(0)\n",
    "#matrix userID vs movieID matrix with respective ratings\n",
    "\n",
    "mat_movies_users=csr_matrix(movies_users.values)\n",
    "#movies_users\n",
    "\n",
    "# Euclidean Distance\n",
    "# Manhattan Distance\n",
    "# Minkowski Distance \n",
    "# Cosine Similarity\n",
    "model_knn= NearestNeighbors(metric='cosine', algorithm='brute', n_neighbors=20)\n",
    "\n",
    "def recommender(movie_name, data, model, n_recommendations):\n",
    "    model.fit(data)\n",
    "    idx=process.extractOne(movie_name, df_movies['title'])[2]\n",
    "    print('Movie Selected: ',df_movies['title'][idx], 'Index: ',idx)\n",
    "    print('Searching for recommendations.....')\n",
    "    distances, indices=model.kneighbors(data[idx], n_neighbors=n_recommendations)\n",
    "    for i in indices:\n",
    "        print(df_movies['title'][i].where(i!=idx))\n",
    "        \n",
    "entered_movie = input (\"Enter a movie name :\") \n",
    "\n",
    "recommender(entered_movie, mat_movies_users, model_knn,20) \n",
    "\n",
    "\n",
    "#17103465 - PUJAN PATEL\n",
    "#17103467 - MIHIR BRAHMBHATT\n",
    "#17103470 - JINESH KANSARA\n",
    "#17103475 - SANKET PARMAR\n",
    "#17103508 - SAGAR PARMAR"
   ]
  },
  {
   "cell_type": "code",
   "execution_count": 3,
   "metadata": {},
   "outputs": [],
   "source": [
    "import pickle\n",
    "\n",
    "# Train your model and obtain the output\n",
    "model_output = {'model': 'trained_model', 'accuracy': 0.95}\n",
    "\n",
    "# Save the model output using pickle\n",
    "with open('model_output.pkl', 'wb') as f:\n",
    "    pickle.dump(model_output, f)\n"
   ]
  },
  {
   "cell_type": "code",
   "execution_count": 2,
   "metadata": {},
   "outputs": [],
   "source": [
    "import pickle"
   ]
  },
  {
   "cell_type": "code",
   "execution_count": 3,
   "metadata": {},
   "outputs": [],
   "source": [
    "pickle.dump(recommender,open(\"movie_recm.pkl\",\"wb\"))\n",
    "#pickle.dump(similarity,open(\"similarity.pkl\",\"wb\"))"
   ]
  },
  {
   "cell_type": "code",
   "execution_count": null,
   "metadata": {},
   "outputs": [],
   "source": [
    "np.array(new_df[\"title\"])"
   ]
  }
 ],
 "metadata": {
  "kernelspec": {
   "display_name": "Python 3",
   "language": "python",
   "name": "python3"
  },
  "language_info": {
   "codemirror_mode": {
    "name": "ipython",
    "version": 3
   },
   "file_extension": ".py",
   "mimetype": "text/x-python",
   "name": "python",
   "nbconvert_exporter": "python",
   "pygments_lexer": "ipython3",
   "version": "3.8.5"
  }
 },
 "nbformat": 4,
 "nbformat_minor": 4
}
